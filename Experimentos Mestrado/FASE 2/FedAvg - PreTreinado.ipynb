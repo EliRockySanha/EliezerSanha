{
 "cells": [
  {
   "cell_type": "markdown",
   "id": "092a82b5",
   "metadata": {},
   "source": [
    "# FedAvg Com Transferência de Aprendizado"
   ]
  },
  {
   "cell_type": "markdown",
   "id": "8357da4e",
   "metadata": {},
   "source": [
    "## Clientes com dados completos"
   ]
  },
  {
   "cell_type": "code",
   "execution_count": 1,
   "id": "44957e91",
   "metadata": {},
   "outputs": [],
   "source": [
    "import torch\n",
    "import torch.nn as nn\n",
    "import torch.optim as optim\n",
    "import torchvision.transforms as transforms\n",
    "import torchvision.datasets as datasets\n",
    "from torch.utils.data import DataLoader, Subset\n",
    "import copy\n",
    "import torchvision.models as models\n",
    "import random\n",
    "\n",
    "random.seed(123)\n",
    "torch.manual_seed(123)\n",
    "torch.cuda.manual_seed(123)\n",
    "\n",
    "# Configuração do dispositivo\n",
    "device = torch.device(\"cuda\" if torch.cuda.is_available() else \"cpu\")\n",
    "\n",
    "# Função para selecionar o modelo pré-treinado\n",
    "def select_model(architecture):\n",
    "    if architecture == 'alexnet':\n",
    "        model = models.alexnet(weights=models.AlexNet_Weights.IMAGENET1K_V1)\n",
    "        model.classifier[6] = nn.Linear(model.classifier[6].in_features, 10)\n",
    "    elif architecture == 'vgg11':\n",
    "        model = models.vgg11(weights=models.VGG11_Weights.IMAGENET1K_V1)\n",
    "        model.classifier[6] = nn.Linear(model.classifier[6].in_features, 10)\n",
    "    elif architecture == 'resnet18':\n",
    "        model = models.resnet18(weights=models.ResNet18_Weights.IMAGENET1K_V1)\n",
    "        model.fc = nn.Linear(model.fc.in_features, 10)\n",
    "    elif architecture == 'mobilenet_v2':\n",
    "        model = models.mobilenet_v2(weights=models.MobileNet_V2_Weights.IMAGENET1K_V1)\n",
    "        model.classifier[1] = nn.Linear(model.classifier[1].in_features, 10)\n",
    "    elif architecture == 'squeezenet':\n",
    "        model = models.squeezenet1_1(weights=models.SqueezeNet1_1_Weights.IMAGENET1K_V1)\n",
    "        model.classifier[1] = nn.Conv2d(512, 10, kernel_size=(1, 1), stride=(1, 1))\n",
    "        model.num_classes = 10\n",
    "    else:\n",
    "        raise ValueError(\"Arquitetura não suportada\")\n",
    "\n",
    "    return model.to(device)\n",
    "\n",
    "# Função para criação do dataset para cada cliente\n",
    "def create_subset(dataset, subset_size):\n",
    "    indices = list(range(len(dataset)))\n",
    "    subset_indices = random.sample(indices, subset_size)\n",
    "    return Subset(dataset, subset_indices)\n",
    "\n",
    "# Classe para o cliente que faz treinamento local\n",
    "class Client:\n",
    "    def __init__(self, model, dataloader, device):\n",
    "        self.model = copy.deepcopy(model).to(device)\n",
    "        self.dataloader = dataloader\n",
    "        self.optimizer = optim.Adam(self.model.parameters(), lr=0.0001, weight_decay=1e-5)\n",
    "        self.device = device\n",
    "\n",
    "    def local_train(self, criterion, num_epochs=1):\n",
    "        self.model.train()\n",
    "        for epoch in range(num_epochs):\n",
    "            for images, labels in self.dataloader:\n",
    "                images, labels = images.to(self.device), labels.to(self.device)\n",
    "                self.optimizer.zero_grad()\n",
    "                outputs = self.model(images)\n",
    "                loss = criterion(outputs, labels)\n",
    "                loss.backward()\n",
    "                self.optimizer.step()\n",
    "\n",
    "    def get_parameters(self):\n",
    "        return {name: param.clone().detach() for name, param in self.model.state_dict().items()}\n",
    "\n",
    "    def set_parameters(self, global_parameters):\n",
    "        self.model.load_state_dict(global_parameters)\n",
    "\n",
    "# Função principal de treinamento federado usando FedAvg\n",
    "def federated_training_fedavg(architecture, num_clients, num_rounds):\n",
    "    # Inicializar modelo base e critério de perda\n",
    "    base_model = select_model(architecture)\n",
    "    criterion = nn.CrossEntropyLoss()\n",
    "\n",
    "    # Criar DataLoaders para cada cliente\n",
    "    trainset = datasets.CIFAR10(root='./data', train=True, download=True, transform=transform)\n",
    "    trainloaders = [DataLoader(create_subset(trainset, 5000), batch_size=64, shuffle=True) for _ in range(num_clients)]\n",
    "\n",
    "    testset = datasets.CIFAR10(root='./data', train=False, download=True, transform=transform)\n",
    "    testloader = DataLoader(create_subset(testset, 1000), batch_size=64, shuffle=False)\n",
    "\n",
    "    # Inicializar clientes com dados locais\n",
    "    clients = [Client(base_model, trainloaders[i], device) for i in range(num_clients)]\n",
    "    global_model = copy.deepcopy(base_model)\n",
    "\n",
    "    # Treinamento federado com FedAvg\n",
    "    for round_num in range(num_rounds):\n",
    "        client_models = []\n",
    "\n",
    "        # Treinamento local em cada cliente\n",
    "        for client in clients:\n",
    "            client.set_parameters(global_model.state_dict())\n",
    "            client.local_train(criterion, num_epochs=5)\n",
    "            client_models.append(client.get_parameters())\n",
    "\n",
    "        # Agregação FedAvg\n",
    "        new_global_parameters = {}\n",
    "        for name in client_models[0].keys():\n",
    "            #new_global_parameters[name] = torch.mean(torch.stack([client[name] for client in client_models]), dim=0)\n",
    "            new_global_parameters[name] = torch.mean(torch.stack([client[name].float() for client in client_models]), dim=0)\n",
    "\n",
    "        # Atualizar modelo global\n",
    "        global_model.load_state_dict(new_global_parameters)\n",
    "\n",
    "        # Avaliação do modelo global\n",
    "        test_loss, test_accuracy = evaluate_model(global_model, testloader, criterion)\n",
    "        print(f'Round {round_num + 1}/{num_rounds}, Test Loss: {test_loss:.4f}, Test Accuracy: {test_accuracy:.4f}')\n",
    "\n",
    "    # Avaliação final no conjunto de teste\n",
    "    print(\"Treinamento FedAvg concluído.\")\n",
    "    test_loss, test_accuracy = evaluate_model(global_model, testloader, criterion)\n",
    "    print(f'Avaliação final no conjunto de teste - Loss: {test_loss:.4f}, Accuracy: {test_accuracy:.4f}')\n",
    "\n",
    "# Função de avaliação do modelo\n",
    "def evaluate_model(model, dataloader, criterion):\n",
    "    model.eval()\n",
    "    total_loss = 0\n",
    "    correct = 0\n",
    "    total = 0\n",
    "    with torch.no_grad():\n",
    "        for images, labels in dataloader:\n",
    "            images, labels = images.to(device), labels.to(device)\n",
    "            outputs = model(images)\n",
    "            loss = criterion(outputs, labels)\n",
    "            total_loss += loss.item()\n",
    "            _, predicted = torch.max(outputs.data, 1)\n",
    "            total += labels.size(0)\n",
    "            correct += (predicted == labels).sum().item()\n",
    "\n",
    "    avg_loss = total_loss / len(dataloader)\n",
    "    accuracy = correct / total\n",
    "    return avg_loss, accuracy\n",
    "\n",
    "# Parâmetros de execução\n",
    "transform = transforms.Compose([\n",
    "    transforms.Resize((224, 224)),\n",
    "    transforms.ToTensor(),\n",
    "    transforms.Normalize((0.5, 0.5, 0.5), (0.5, 0.5, 0.5))\n",
    "])\n",
    "\n"
   ]
  },
  {
   "cell_type": "code",
   "execution_count": 2,
   "id": "759ad0d2",
   "metadata": {},
   "outputs": [],
   "source": [
    "num_clients = 10\n",
    "num_rounds = 30"
   ]
  },
  {
   "cell_type": "markdown",
   "id": "5630af47",
   "metadata": {},
   "source": [
    "## SqueezeNet"
   ]
  },
  {
   "cell_type": "code",
   "execution_count": 3,
   "id": "d81d2b81",
   "metadata": {},
   "outputs": [
    {
     "name": "stdout",
     "output_type": "stream",
     "text": [
      "Files already downloaded and verified\n",
      "Files already downloaded and verified\n",
      "Round 1/30, Test Loss: 1.2536, Test Accuracy: 0.5850\n",
      "Round 2/30, Test Loss: 0.8812, Test Accuracy: 0.6990\n",
      "Round 3/30, Test Loss: 0.7423, Test Accuracy: 0.7620\n",
      "Round 4/30, Test Loss: 0.6602, Test Accuracy: 0.7810\n",
      "Round 5/30, Test Loss: 0.6009, Test Accuracy: 0.7900\n",
      "Round 6/30, Test Loss: 0.5519, Test Accuracy: 0.8140\n",
      "Round 7/30, Test Loss: 0.5286, Test Accuracy: 0.8130\n",
      "Round 8/30, Test Loss: 0.5040, Test Accuracy: 0.8350\n",
      "Round 9/30, Test Loss: 0.4899, Test Accuracy: 0.8370\n",
      "Round 10/30, Test Loss: 0.4654, Test Accuracy: 0.8410\n",
      "Round 11/30, Test Loss: 0.4569, Test Accuracy: 0.8430\n",
      "Round 12/30, Test Loss: 0.4413, Test Accuracy: 0.8590\n",
      "Round 13/30, Test Loss: 0.4306, Test Accuracy: 0.8560\n",
      "Round 14/30, Test Loss: 0.4195, Test Accuracy: 0.8570\n",
      "Round 15/30, Test Loss: 0.3952, Test Accuracy: 0.8640\n",
      "Round 16/30, Test Loss: 0.3951, Test Accuracy: 0.8650\n",
      "Round 17/30, Test Loss: 0.3880, Test Accuracy: 0.8710\n",
      "Round 18/30, Test Loss: 0.3771, Test Accuracy: 0.8710\n",
      "Round 19/30, Test Loss: 0.3680, Test Accuracy: 0.8730\n",
      "Round 20/30, Test Loss: 0.3721, Test Accuracy: 0.8730\n",
      "Round 21/30, Test Loss: 0.3726, Test Accuracy: 0.8700\n",
      "Round 22/30, Test Loss: 0.3547, Test Accuracy: 0.8760\n",
      "Round 23/30, Test Loss: 0.3626, Test Accuracy: 0.8840\n",
      "Round 24/30, Test Loss: 0.3478, Test Accuracy: 0.8830\n",
      "Round 25/30, Test Loss: 0.3479, Test Accuracy: 0.8800\n",
      "Round 26/30, Test Loss: 0.3417, Test Accuracy: 0.8910\n",
      "Round 27/30, Test Loss: 0.3528, Test Accuracy: 0.8860\n",
      "Round 28/30, Test Loss: 0.3341, Test Accuracy: 0.8880\n",
      "Round 29/30, Test Loss: 0.3255, Test Accuracy: 0.8890\n",
      "Round 30/30, Test Loss: 0.3256, Test Accuracy: 0.8880\n",
      "Treinamento FedAvg concluído.\n",
      "Avaliação final no conjunto de teste - Loss: 0.3256, Accuracy: 0.8880\n"
     ]
    }
   ],
   "source": [
    "architecture = 'squeezenet' #'resnet18', 'mobilenet_v2', 'squeezenet' ou 'alexnet'\n",
    "federated_training_fedavg(architecture, num_clients, num_rounds)"
   ]
  },
  {
   "cell_type": "markdown",
   "id": "eec7bd36",
   "metadata": {},
   "source": [
    "## MobileNet_v2"
   ]
  },
  {
   "cell_type": "code",
   "execution_count": 4,
   "id": "86da25f0",
   "metadata": {},
   "outputs": [
    {
     "name": "stdout",
     "output_type": "stream",
     "text": [
      "Files already downloaded and verified\n",
      "Files already downloaded and verified\n",
      "Round 1/30, Test Loss: 0.5690, Test Accuracy: 0.8420\n",
      "Round 2/30, Test Loss: 0.3711, Test Accuracy: 0.8770\n",
      "Round 3/30, Test Loss: 0.3142, Test Accuracy: 0.8960\n",
      "Round 4/30, Test Loss: 0.2908, Test Accuracy: 0.9030\n",
      "Round 5/30, Test Loss: 0.2738, Test Accuracy: 0.9090\n",
      "Round 6/30, Test Loss: 0.2645, Test Accuracy: 0.9090\n",
      "Round 7/30, Test Loss: 0.2603, Test Accuracy: 0.9130\n",
      "Round 8/30, Test Loss: 0.2619, Test Accuracy: 0.9120\n",
      "Round 9/30, Test Loss: 0.2614, Test Accuracy: 0.9140\n",
      "Round 10/30, Test Loss: 0.2604, Test Accuracy: 0.9150\n",
      "Round 11/30, Test Loss: 0.2569, Test Accuracy: 0.9160\n",
      "Round 12/30, Test Loss: 0.2656, Test Accuracy: 0.9170\n",
      "Round 13/30, Test Loss: 0.2603, Test Accuracy: 0.9210\n",
      "Round 14/30, Test Loss: 0.2721, Test Accuracy: 0.9170\n",
      "Round 15/30, Test Loss: 0.2812, Test Accuracy: 0.9180\n",
      "Round 16/30, Test Loss: 0.2760, Test Accuracy: 0.9150\n",
      "Round 17/30, Test Loss: 0.2847, Test Accuracy: 0.9160\n",
      "Round 18/30, Test Loss: 0.2752, Test Accuracy: 0.9180\n",
      "Round 19/30, Test Loss: 0.2860, Test Accuracy: 0.9230\n",
      "Round 20/30, Test Loss: 0.2831, Test Accuracy: 0.9200\n",
      "Round 21/30, Test Loss: 0.2876, Test Accuracy: 0.9190\n",
      "Round 22/30, Test Loss: 0.2926, Test Accuracy: 0.9180\n",
      "Round 23/30, Test Loss: 0.2966, Test Accuracy: 0.9160\n",
      "Round 24/30, Test Loss: 0.3009, Test Accuracy: 0.9200\n",
      "Round 25/30, Test Loss: 0.3061, Test Accuracy: 0.9170\n",
      "Round 26/30, Test Loss: 0.2990, Test Accuracy: 0.9110\n",
      "Round 27/30, Test Loss: 0.3004, Test Accuracy: 0.9160\n",
      "Round 28/30, Test Loss: 0.3105, Test Accuracy: 0.9100\n",
      "Round 29/30, Test Loss: 0.3105, Test Accuracy: 0.9180\n",
      "Round 30/30, Test Loss: 0.3080, Test Accuracy: 0.9220\n",
      "Treinamento FedAvg concluído.\n",
      "Avaliação final no conjunto de teste - Loss: 0.3080, Accuracy: 0.9220\n"
     ]
    }
   ],
   "source": [
    "architecture = 'mobilenet_v2' #'resnet18', 'mobilenet_v2', 'squeezenet' ou 'alexnet'\n",
    "federated_training_fedavg(architecture, num_clients, num_rounds)"
   ]
  },
  {
   "cell_type": "markdown",
   "id": "005ed9e3",
   "metadata": {},
   "source": [
    "## ResNet18"
   ]
  },
  {
   "cell_type": "code",
   "execution_count": 5,
   "id": "d1a1c2bb",
   "metadata": {},
   "outputs": [
    {
     "name": "stdout",
     "output_type": "stream",
     "text": [
      "Files already downloaded and verified\n",
      "Files already downloaded and verified\n",
      "Round 1/30, Test Loss: 0.3328, Test Accuracy: 0.8930\n",
      "Round 2/30, Test Loss: 0.2283, Test Accuracy: 0.9230\n",
      "Round 3/30, Test Loss: 0.1908, Test Accuracy: 0.9330\n",
      "Round 4/30, Test Loss: 0.1807, Test Accuracy: 0.9360\n",
      "Round 5/30, Test Loss: 0.1716, Test Accuracy: 0.9420\n",
      "Round 6/30, Test Loss: 0.1654, Test Accuracy: 0.9330\n",
      "Round 7/30, Test Loss: 0.1636, Test Accuracy: 0.9390\n",
      "Round 8/30, Test Loss: 0.1576, Test Accuracy: 0.9420\n",
      "Round 9/30, Test Loss: 0.1684, Test Accuracy: 0.9420\n",
      "Round 10/30, Test Loss: 0.1715, Test Accuracy: 0.9420\n",
      "Round 11/30, Test Loss: 0.1729, Test Accuracy: 0.9380\n",
      "Round 12/30, Test Loss: 0.1675, Test Accuracy: 0.9420\n",
      "Round 13/30, Test Loss: 0.1677, Test Accuracy: 0.9410\n",
      "Round 14/30, Test Loss: 0.1686, Test Accuracy: 0.9390\n",
      "Round 15/30, Test Loss: 0.1703, Test Accuracy: 0.9400\n",
      "Round 16/30, Test Loss: 0.1669, Test Accuracy: 0.9440\n",
      "Round 17/30, Test Loss: 0.1741, Test Accuracy: 0.9400\n",
      "Round 18/30, Test Loss: 0.1748, Test Accuracy: 0.9380\n",
      "Round 19/30, Test Loss: 0.1785, Test Accuracy: 0.9380\n",
      "Round 20/30, Test Loss: 0.1686, Test Accuracy: 0.9430\n",
      "Round 21/30, Test Loss: 0.1644, Test Accuracy: 0.9470\n",
      "Round 22/30, Test Loss: 0.1609, Test Accuracy: 0.9470\n",
      "Round 23/30, Test Loss: 0.1600, Test Accuracy: 0.9470\n",
      "Round 24/30, Test Loss: 0.1704, Test Accuracy: 0.9450\n",
      "Round 25/30, Test Loss: 0.1677, Test Accuracy: 0.9470\n",
      "Round 26/30, Test Loss: 0.1682, Test Accuracy: 0.9450\n",
      "Round 27/30, Test Loss: 0.1615, Test Accuracy: 0.9490\n",
      "Round 28/30, Test Loss: 0.1635, Test Accuracy: 0.9470\n",
      "Round 29/30, Test Loss: 0.1579, Test Accuracy: 0.9490\n",
      "Round 30/30, Test Loss: 0.1668, Test Accuracy: 0.9470\n",
      "Treinamento FedAvg concluído.\n",
      "Avaliação final no conjunto de teste - Loss: 0.1668, Accuracy: 0.9470\n"
     ]
    }
   ],
   "source": [
    "architecture = 'resnet18' #'resnet18', 'mobilenet_v2', 'squeezenet' ou 'alexnet'\n",
    "federated_training_fedavg(architecture, num_clients, num_rounds)"
   ]
  },
  {
   "cell_type": "markdown",
   "id": "0a42dd49",
   "metadata": {},
   "source": [
    "## AlexNet"
   ]
  },
  {
   "cell_type": "code",
   "execution_count": 6,
   "id": "da970a41",
   "metadata": {},
   "outputs": [
    {
     "name": "stdout",
     "output_type": "stream",
     "text": [
      "Files already downloaded and verified\n",
      "Files already downloaded and verified\n",
      "Round 1/30, Test Loss: 0.5776, Test Accuracy: 0.7860\n",
      "Round 2/30, Test Loss: 0.4299, Test Accuracy: 0.8420\n",
      "Round 3/30, Test Loss: 0.3839, Test Accuracy: 0.8550\n",
      "Round 4/30, Test Loss: 0.3490, Test Accuracy: 0.8720\n",
      "Round 5/30, Test Loss: 0.3330, Test Accuracy: 0.8780\n",
      "Round 6/30, Test Loss: 0.3010, Test Accuracy: 0.8840\n",
      "Round 7/30, Test Loss: 0.2957, Test Accuracy: 0.8830\n",
      "Round 8/30, Test Loss: 0.2809, Test Accuracy: 0.9000\n",
      "Round 9/30, Test Loss: 0.2770, Test Accuracy: 0.9000\n",
      "Round 10/30, Test Loss: 0.2636, Test Accuracy: 0.9060\n",
      "Round 11/30, Test Loss: 0.2648, Test Accuracy: 0.9040\n",
      "Round 12/30, Test Loss: 0.2668, Test Accuracy: 0.9050\n",
      "Round 13/30, Test Loss: 0.2542, Test Accuracy: 0.9090\n",
      "Round 14/30, Test Loss: 0.2515, Test Accuracy: 0.9150\n",
      "Round 15/30, Test Loss: 0.2510, Test Accuracy: 0.9160\n",
      "Round 16/30, Test Loss: 0.2536, Test Accuracy: 0.9160\n",
      "Round 17/30, Test Loss: 0.2609, Test Accuracy: 0.9070\n",
      "Round 18/30, Test Loss: 0.2592, Test Accuracy: 0.9100\n",
      "Round 19/30, Test Loss: 0.2550, Test Accuracy: 0.9090\n",
      "Round 20/30, Test Loss: 0.2568, Test Accuracy: 0.9090\n",
      "Round 21/30, Test Loss: 0.2537, Test Accuracy: 0.9100\n",
      "Round 22/30, Test Loss: 0.2722, Test Accuracy: 0.9030\n",
      "Round 23/30, Test Loss: 0.2639, Test Accuracy: 0.9110\n",
      "Round 24/30, Test Loss: 0.2615, Test Accuracy: 0.9050\n",
      "Round 25/30, Test Loss: 0.2724, Test Accuracy: 0.9140\n",
      "Round 26/30, Test Loss: 0.2776, Test Accuracy: 0.9090\n",
      "Round 27/30, Test Loss: 0.2702, Test Accuracy: 0.9110\n",
      "Round 28/30, Test Loss: 0.2696, Test Accuracy: 0.9120\n",
      "Round 29/30, Test Loss: 0.2794, Test Accuracy: 0.9130\n",
      "Round 30/30, Test Loss: 0.2738, Test Accuracy: 0.9120\n",
      "Treinamento FedAvg concluído.\n",
      "Avaliação final no conjunto de teste - Loss: 0.2738, Accuracy: 0.9120\n"
     ]
    }
   ],
   "source": [
    "architecture = 'alexnet' #'resnet18', 'mobilenet_v2', 'squeezenet' ou 'alexnet'\n",
    "federated_training_fedavg(architecture, num_clients, num_rounds)"
   ]
  },
  {
   "cell_type": "code",
   "execution_count": 7,
   "id": "ac5de75f",
   "metadata": {},
   "outputs": [
    {
     "name": "stdout",
     "output_type": "stream",
     "text": [
      "Arquitetura: alexnet\n",
      "alexnet: 57044810 parâmetros\n",
      "Tipo de dado dos parâmetros: torch.float32\n",
      "Arquitetura: vgg11\n",
      "vgg11: 128807306 parâmetros\n",
      "Tipo de dado dos parâmetros: torch.float32\n",
      "Arquitetura: resnet18\n",
      "resnet18: 11181642 parâmetros\n",
      "Tipo de dado dos parâmetros: torch.float32\n",
      "Arquitetura: mobilenet_v2\n",
      "mobilenet_v2: 2236682 parâmetros\n",
      "Tipo de dado dos parâmetros: torch.float32\n",
      "Arquitetura: squeezenet\n",
      "squeezenet: 727626 parâmetros\n",
      "Tipo de dado dos parâmetros: torch.float32\n"
     ]
    }
   ],
   "source": [
    "# Calcular e imprimir o número de parâmetros de cada arquitetura\n",
    "architectures = ['alexnet', 'vgg11', 'resnet18', 'mobilenet_v2', 'squeezenet']\n",
    "\n",
    "for arch in architectures:\n",
    "    model = select_model(arch)\n",
    "    num_params = sum(p.numel() for p in model.parameters())\n",
    "\n",
    "    dtype = next(model.parameters()).dtype\n",
    "\n",
    "    print(f\"Arquitetura: {arch}\")\n",
    "    print(f\"{arch}: {num_params} parâmetros\")\n",
    "    print(f\"Tipo de dado dos parâmetros: {dtype}\")"
   ]
  },
  {
   "cell_type": "code",
   "execution_count": null,
   "id": "129f789f",
   "metadata": {},
   "outputs": [],
   "source": [
    "''"
   ]
  }
 ],
 "metadata": {
  "kernelspec": {
   "display_name": "Python 3 (ipykernel)",
   "language": "python",
   "name": "python3"
  },
  "language_info": {
   "codemirror_mode": {
    "name": "ipython",
    "version": 3
   },
   "file_extension": ".py",
   "mimetype": "text/x-python",
   "name": "python",
   "nbconvert_exporter": "python",
   "pygments_lexer": "ipython3",
   "version": "3.11.5"
  }
 },
 "nbformat": 4,
 "nbformat_minor": 5
}
