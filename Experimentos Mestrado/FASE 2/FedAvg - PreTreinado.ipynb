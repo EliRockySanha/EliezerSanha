{
 "cells": [
  {
   "cell_type": "markdown",
   "id": "092a82b5",
   "metadata": {},
   "source": [
    "# FedAvg Com Transferência de Aprendizado"
   ]
  },
  {
   "cell_type": "markdown",
   "id": "8357da4e",
   "metadata": {},
   "source": [
    "## Clientes com dados completos"
   ]
  },
  {
   "cell_type": "code",
   "execution_count": null,
   "id": "44957e91",
   "metadata": {},
   "outputs": [],
   "source": [
    "import torch\n",
    "import torch.nn as nn\n",
    "import torch.optim as optim\n",
    "import torchvision.transforms as transforms\n",
    "import torchvision.datasets as datasets\n",
    "from torch.utils.data import DataLoader, Subset\n",
    "import copy\n",
    "import torchvision.models as models\n",
    "import random\n",
    "\n",
    "random.seed(123)\n",
    "torch.manual_seed(123)\n",
    "torch.cuda.manual_seed(123)\n",
    "\n",
    "# Configuração do dispositivo\n",
    "device = torch.device(\"cuda\" if torch.cuda.is_available() else \"cpu\")\n",
    "\n",
    "# Função para selecionar o modelo pré-treinado\n",
    "def select_model(architecture):\n",
    "    if architecture == 'alexnet':\n",
    "        model = models.alexnet(weights=models.AlexNet_Weights.IMAGENET1K_V1)\n",
    "        model.classifier[6] = nn.Linear(model.classifier[6].in_features, 10)\n",
    "    elif architecture == 'vgg11':\n",
    "        model = models.vgg11(weights=models.VGG11_Weights.IMAGENET1K_V1)\n",
    "        model.classifier[6] = nn.Linear(model.classifier[6].in_features, 10)\n",
    "    elif architecture == 'resnet18':\n",
    "        model = models.resnet18(weights=models.ResNet18_Weights.IMAGENET1K_V1)\n",
    "        model.fc = nn.Linear(model.fc.in_features, 10)\n",
    "    elif architecture == 'mobilenet_v2':\n",
    "        model = models.mobilenet_v2(weights=models.MobileNet_V2_Weights.IMAGENET1K_V1)\n",
    "        model.classifier[1] = nn.Linear(model.classifier[1].in_features, 10)\n",
    "    elif architecture == 'squeezenet':\n",
    "        model = models.squeezenet1_1(weights=models.SqueezeNet1_1_Weights.IMAGENET1K_V1)\n",
    "        model.classifier[1] = nn.Conv2d(512, 10, kernel_size=(1, 1), stride=(1, 1))\n",
    "        model.num_classes = 10\n",
    "    else:\n",
    "        raise ValueError(\"Arquitetura não suportada\")\n",
    "\n",
    "    return model.to(device)\n",
    "\n",
    "# Função para criação do dataset para cada cliente\n",
    "def create_subset(dataset, subset_size):\n",
    "    indices = list(range(len(dataset)))\n",
    "    subset_indices = random.sample(indices, subset_size)\n",
    "    return Subset(dataset, subset_indices)\n",
    "\n",
    "# Classe para o cliente que faz treinamento local\n",
    "class Client:\n",
    "    def __init__(self, model, dataloader, device):\n",
    "        self.model = copy.deepcopy(model).to(device)\n",
    "        self.dataloader = dataloader\n",
    "        self.optimizer = optim.Adam(self.model.parameters(), lr=0.0001, weight_decay=1e-5)\n",
    "        self.device = device\n",
    "\n",
    "    def local_train(self, criterion, num_epochs=1):\n",
    "        self.model.train()\n",
    "        for epoch in range(num_epochs):\n",
    "            for images, labels in self.dataloader:\n",
    "                images, labels = images.to(self.device), labels.to(self.device)\n",
    "                self.optimizer.zero_grad()\n",
    "                outputs = self.model(images)\n",
    "                loss = criterion(outputs, labels)\n",
    "                loss.backward()\n",
    "                self.optimizer.step()\n",
    "\n",
    "    def get_parameters(self):\n",
    "        return {name: param.clone().detach() for name, param in self.model.state_dict().items()}\n",
    "\n",
    "    def set_parameters(self, global_parameters):\n",
    "        self.model.load_state_dict(global_parameters)\n",
    "\n",
    "# Função principal de treinamento federado usando FedAvg\n",
    "def federated_training_fedavg(architecture, num_clients, num_rounds):\n",
    "    # Inicializar modelo base e critério de perda\n",
    "    base_model = select_model(architecture)\n",
    "    criterion = nn.CrossEntropyLoss()\n",
    "\n",
    "    # Criar DataLoaders para cada cliente\n",
    "    trainset = datasets.CIFAR10(root='./data', train=True, download=True, transform=transform)\n",
    "    trainloaders = [DataLoader(create_subset(trainset, 5000), batch_size=64, shuffle=True) for _ in range(num_clients)]\n",
    "\n",
    "    testset = datasets.CIFAR10(root='./data', train=False, download=True, transform=transform)\n",
    "    testloader = DataLoader(create_subset(testset, 1000), batch_size=64, shuffle=False)\n",
    "\n",
    "    # Inicializar clientes com dados locais\n",
    "    clients = [Client(base_model, trainloaders[i], device) for i in range(num_clients)]\n",
    "    global_model = copy.deepcopy(base_model)\n",
    "\n",
    "    # Treinamento federado com FedAvg\n",
    "    for round_num in range(num_rounds):\n",
    "        client_models = []\n",
    "\n",
    "        # Treinamento local em cada cliente\n",
    "        for client in clients:\n",
    "            client.set_parameters(global_model.state_dict())\n",
    "            client.local_train(criterion, num_epochs=5)\n",
    "            client_models.append(client.get_parameters())\n",
    "\n",
    "        # Agregação FedAvg\n",
    "        new_global_parameters = {}\n",
    "        for name in client_models[0].keys():\n",
    "            #new_global_parameters[name] = torch.mean(torch.stack([client[name] for client in client_models]), dim=0)\n",
    "            new_global_parameters[name] = torch.mean(torch.stack([client[name].float() for client in client_models]), dim=0)\n",
    "\n",
    "        # Atualizar modelo global\n",
    "        global_model.load_state_dict(new_global_parameters)\n",
    "\n",
    "        # Avaliação do modelo global\n",
    "        test_loss, test_accuracy = evaluate_model(global_model, testloader, criterion)\n",
    "        print(f'Round {round_num + 1}/{num_rounds}, Test Loss: {test_loss:.4f}, Test Accuracy: {test_accuracy:.4f}')\n",
    "\n",
    "    # Avaliação final no conjunto de teste\n",
    "    print(\"Treinamento FedAvg concluído.\")\n",
    "    test_loss, test_accuracy = evaluate_model(global_model, testloader, criterion)\n",
    "    print(f'Avaliação final no conjunto de teste - Loss: {test_loss:.4f}, Accuracy: {test_accuracy:.4f}')\n",
    "\n",
    "# Função de avaliação do modelo\n",
    "def evaluate_model(model, dataloader, criterion):\n",
    "    model.eval()\n",
    "    total_loss = 0\n",
    "    correct = 0\n",
    "    total = 0\n",
    "    with torch.no_grad():\n",
    "        for images, labels in dataloader:\n",
    "            images, labels = images.to(device), labels.to(device)\n",
    "            outputs = model(images)\n",
    "            loss = criterion(outputs, labels)\n",
    "            total_loss += loss.item()\n",
    "            _, predicted = torch.max(outputs.data, 1)\n",
    "            total += labels.size(0)\n",
    "            correct += (predicted == labels).sum().item()\n",
    "\n",
    "    avg_loss = total_loss / len(dataloader)\n",
    "    accuracy = correct / total\n",
    "    return avg_loss, accuracy\n",
    "\n",
    "# Parâmetros de execução\n",
    "transform = transforms.Compose([\n",
    "    transforms.Resize((224, 224)),\n",
    "    transforms.ToTensor(),\n",
    "    transforms.Normalize((0.5, 0.5, 0.5), (0.5, 0.5, 0.5))\n",
    "])\n",
    "\n"
   ]
  },
  {
   "cell_type": "code",
   "execution_count": null,
   "id": "759ad0d2",
   "metadata": {},
   "outputs": [],
   "source": [
    "num_clients = 10\n",
    "num_rounds = 30"
   ]
  },
  {
   "cell_type": "markdown",
   "id": "5630af47",
   "metadata": {},
   "source": [
    "## SqueezeNet"
   ]
  },
  {
   "cell_type": "code",
   "execution_count": null,
   "id": "d81d2b81",
   "metadata": {},
   "outputs": [],
   "source": [
    "architecture = 'squeezenet' #'resnet18', 'mobilenet_v2', 'squeezenet' ou 'alexnet'\n",
    "federated_training_fedavg(architecture, num_clients, num_rounds)"
   ]
  },
  {
   "cell_type": "markdown",
   "id": "eec7bd36",
   "metadata": {},
   "source": [
    "## MobileNet_v2"
   ]
  },
  {
   "cell_type": "code",
   "execution_count": null,
   "id": "86da25f0",
   "metadata": {},
   "outputs": [],
   "source": [
    "architecture = 'mobilenet_v2' #'resnet18', 'mobilenet_v2', 'squeezenet' ou 'alexnet'\n",
    "federated_training_fedavg(architecture, num_clients, num_rounds)"
   ]
  },
  {
   "cell_type": "markdown",
   "id": "005ed9e3",
   "metadata": {},
   "source": [
    "## ResNet18"
   ]
  },
  {
   "cell_type": "code",
   "execution_count": null,
   "id": "d1a1c2bb",
   "metadata": {},
   "outputs": [],
   "source": [
    "architecture = 'resnet18' #'resnet18', 'mobilenet_v2', 'squeezenet' ou 'alexnet'\n",
    "federated_training_fedavg(architecture, num_clients, num_rounds)"
   ]
  },
  {
   "cell_type": "markdown",
   "id": "0a42dd49",
   "metadata": {},
   "source": [
    "## AlexNet"
   ]
  },
  {
   "cell_type": "code",
   "execution_count": null,
   "id": "da970a41",
   "metadata": {},
   "outputs": [],
   "source": [
    "architecture = 'alexnet' #'resnet18', 'mobilenet_v2', 'squeezenet' ou 'alexnet'\n",
    "federated_training_fedavg(architecture, num_clients, num_rounds)"
   ]
  },
  {
   "cell_type": "code",
   "execution_count": null,
   "id": "ac5de75f",
   "metadata": {},
   "outputs": [],
   "source": [
    "# Calcular e imprimir o número de parâmetros de cada arquitetura\n",
    "architectures = ['alexnet', 'vgg11', 'resnet18', 'mobilenet_v2', 'squeezenet']\n",
    "\n",
    "for arch in architectures:\n",
    "    model = select_model(arch)\n",
    "    num_params = sum(p.numel() for p in model.parameters())\n",
    "\n",
    "    dtype = next(model.parameters()).dtype\n",
    "\n",
    "    print(f\"Arquitetura: {arch}\")\n",
    "    print(f\"{arch}: {num_params} parâmetros\")\n",
    "    print(f\"Tipo de dado dos parâmetros: {dtype}\")"
   ]
  },
  {
   "cell_type": "code",
   "execution_count": null,
   "id": "129f789f",
   "metadata": {},
   "outputs": [],
   "source": [
    "''"
   ]
  }
 ],
 "metadata": {
  "kernelspec": {
   "display_name": "Python 3 (ipykernel)",
   "language": "python",
   "name": "python3"
  },
  "language_info": {
   "codemirror_mode": {
    "name": "ipython",
    "version": 3
   },
   "file_extension": ".py",
   "mimetype": "text/x-python",
   "name": "python",
   "nbconvert_exporter": "python",
   "pygments_lexer": "ipython3",
   "version": "3.11.5"
  }
 },
 "nbformat": 4,
 "nbformat_minor": 5
}
