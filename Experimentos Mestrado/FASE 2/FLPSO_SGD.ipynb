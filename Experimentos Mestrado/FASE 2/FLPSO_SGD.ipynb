{
 "cells": [
  {
   "cell_type": "markdown",
   "id": "72fa66b9",
   "metadata": {},
   "source": [
    "# FedPSO (clientes com dados completos)"
   ]
  },
  {
   "cell_type": "code",
   "execution_count": null,
   "id": "148498ec",
   "metadata": {},
   "outputs": [],
   "source": [
    "import torch\n",
    "import torch.nn as nn\n",
    "import torch.optim as optim\n",
    "from torch.utils.data import DataLoader, random_split, Subset\n",
    "from torchvision import datasets, transforms\n",
    "import copy\n",
    "import random\n",
    "import csv\n",
    "import torchvision.models as models"
   ]
  },
  {
   "cell_type": "code",
   "execution_count": null,
   "id": "ac404b56",
   "metadata": {},
   "outputs": [],
   "source": [
    "#Hiperparâmetros\n",
    "BATCH_SIZE = 64\n",
    "epocas_cliente = 5\n",
    "num_clientes = 10\n",
    "num_rodadas = 30\n",
    "inertia, c1, c2 = 0.9, 0.8, 0.9\n",
    "learning_rate = 0.0001"
   ]
  },
  {
   "cell_type": "code",
   "execution_count": null,
   "id": "e6fbcca4",
   "metadata": {},
   "outputs": [],
   "source": [
    "# Configuração do dispositivo\n",
    "device = torch.device(\"cuda\" if torch.cuda.is_available() else \"cpu\")"
   ]
  },
  {
   "cell_type": "code",
   "execution_count": null,
   "id": "5e45db66",
   "metadata": {},
   "outputs": [],
   "source": [
    "#Seeds para reprodutibilidade\n",
    "random.seed(123)\n",
    "torch.manual_seed(123)\n",
    "torch.cuda.manual_seed(123)\n",
    "\n",
    "# Função para inicializar o modelo de acordo com a arquitetura\n",
    "def init_model(architecture=\"squeezenet\"):\n",
    "    if architecture == \"squeezenet\":\n",
    "        model = models.squeezenet1_1(weights=None)\n",
    "        # model = models.squeezenet1_1(weights=models.SqueezeNet1_1_Weights.IMAGENET1K_V1)\n",
    "        model.classifier[1] = nn.Conv2d(512, 10, kernel_size=(1, 1), stride=(1, 1))\n",
    "    elif architecture == \"mobilenet_v2\":\n",
    "        model = models.mobilenet_v2(weights=None)\n",
    "        # model = models.mobilenet_v2(weights=models.MobileNet_V2_Weights.IMAGENET1K_V1)\n",
    "        model.classifier[1] = nn.Linear(model.classifier[1].in_features, 10)\n",
    "    elif architecture == \"resnet18\":\n",
    "        model = models.resnet18(weights=None)\n",
    "        # model = models.resnet18(weights=models.ResNet18_Weights.IMAGENET1K_V1)\n",
    "        model.fc = nn.Linear(model.fc.in_features, 10)\n",
    "    elif architecture == \"alexnet\":\n",
    "        model = models.alexnet(weights=None)\n",
    "         # model = models.alexnet(weights=models.AlexNet_Weights.IMAGENET1K_V1)\n",
    "        model.classifier[6] = nn.Linear(model.classifier[6].in_features, 10)\n",
    "    else:\n",
    "        raise ValueError(\"Unsupported architecture. Choose from 'squeezenet', 'mobilenet_v2', 'resnet18', 'alexnet'.\")\n",
    "    return model.to(device)\n",
    "\n",
    "# Função para criar um subconjunto aleatório de um dataset\n",
    "def create_subset(dataset, subset_size):\n",
    "    indices = list(range(len(dataset)))\n",
    "    subset_indices = random.sample(indices, subset_size)\n",
    "    return Subset(dataset, subset_indices)\n",
    "\n",
    "# Função para salvar os resultados em um arquivo CSV\n",
    "def write_csv(algorithm_name, architecture, results):\n",
    "    file_name = f'{algorithm_name}_{architecture}_do_zero_CIFAR10_output.csv'\n",
    "    with open(file_name, 'w', encoding='utf-8', newline='') as f:\n",
    "        writer = csv.writer(f)\n",
    "        writer.writerow([\"Epoch\", \"Test Loss\", \"Test Accuracy\"])\n",
    "        for i, result in enumerate(results):\n",
    "            writer.writerow([i + 1] + result)\n",
    "\n",
    "class Particle:\n",
    "    def __init__(self, particle_id, model, data, architecture=\"squeezenet\"):\n",
    "        self.particle_id = particle_id\n",
    "        self.model = model.to(device)\n",
    "        self.data = data  # `self.data` agora armazena o dataset, não o DataLoader\n",
    "        self.local_best_model = copy.deepcopy(model.state_dict())\n",
    "        self.local_best_score = float('inf')\n",
    "        self.velocity = {name: torch.zeros_like(param) for name, param in model.named_parameters()}\n",
    "        self.optimizer = optim.Adam(self.model.parameters(), lr=0.0001, weight_decay=1e-5)\n",
    "\n",
    "    def train_particle(self, criterion):\n",
    "        self.model.train()\n",
    "        train_loader = DataLoader(self.data, batch_size=BATCH_SIZE, shuffle=True)\n",
    "        for _ in range(epocas_cliente):\n",
    "            for images, labels in train_loader:\n",
    "                images, labels = images.to(device), labels.to(device)\n",
    "                self.optimizer.zero_grad()\n",
    "                outputs = self.model(images)\n",
    "                loss = criterion(outputs, labels)\n",
    "                loss.backward()\n",
    "                self.optimizer.step()\n",
    "\n",
    "        val_loss = self.evaluate_loss(criterion)\n",
    "        if val_loss < self.local_best_score:\n",
    "            self.local_best_score = val_loss\n",
    "            self.local_best_model = copy.deepcopy(self.model.state_dict())\n",
    "        return self.particle_id, val_loss\n",
    "\n",
    "    def evaluate_loss(self, criterion):\n",
    "        self.model.eval()\n",
    "        total_loss = 0\n",
    "        val_loader = DataLoader(self.data, batch_size=BATCH_SIZE, shuffle=False)\n",
    "        with torch.no_grad():\n",
    "            for images, labels in val_loader:\n",
    "                images, labels = images.to(device), labels.to(device)\n",
    "                outputs = self.model(images)\n",
    "                loss = criterion(outputs, labels)\n",
    "                total_loss += loss.item()\n",
    "        return total_loss / len(val_loader)\n",
    "\n",
    "    def pso_update(self, global_best_model, inertia, c1, c2,learning_rate):\n",
    "        for name, param in self.model.named_parameters():\n",
    "            if param.grad is None:\n",
    "                continue\n",
    "            local_rand = random.random()\n",
    "            global_rand = random.random()\n",
    "            self.velocity[name] = (\n",
    "                inertia * self.velocity[name]\n",
    "                + c1 * local_rand * (self.local_best_model[name].to(device) - param.data)\n",
    "                + c2 * global_rand * (global_best_model[name].to(device) - param.data)\n",
    "            )\n",
    "            param.data += self.velocity[name]\n",
    "            param.data = param.data - learning_rate * param.grad\n",
    "\n",
    "def train_federated(architecture=\"squeezenet\"):\n",
    "    transform = transforms.Compose([\n",
    "        transforms.Resize((224, 224)),\n",
    "        transforms.ToTensor(),\n",
    "        transforms.Normalize((0.5, 0.5, 0.5), (0.5, 0.5, 0.5))\n",
    "    ])\n",
    "\n",
    "    trainset = datasets.CIFAR10(root='./data', train=True, download=True, transform=transform)\n",
    "    trainloaders = [create_subset(trainset, 50000) for _ in range(num_clientes)]\n",
    "\n",
    "    testset = datasets.CIFAR10(root='./data', train=False, download=True, transform=transform)\n",
    "    testloader = DataLoader(testset, batch_size=BATCH_SIZE, shuffle=False)\n",
    "\n",
    "    server_model = init_model(architecture)\n",
    "    particles = [Particle(i, copy.deepcopy(server_model), trainloaders[i], architecture) for i in range(num_clientes)]\n",
    "    criterion = nn.CrossEntropyLoss()\n",
    "\n",
    "    global_best_score = float('inf')\n",
    "    global_best_model = copy.deepcopy(server_model.state_dict())\n",
    "    server_evaluate_acc = []\n",
    "\n",
    "    for epoch in range(num_rodadas):\n",
    "        server_result = []\n",
    "        for particle in particles:\n",
    "            if epoch > 0:\n",
    "                particle.pso_update(global_best_model, inertia, c1, c2, learning_rate)\n",
    "            pid, val_loss = particle.train_particle(criterion)\n",
    "            server_result.append((pid, val_loss))\n",
    "\n",
    "        best_particle = min(server_result, key=lambda x: x[1])\n",
    "        global_best_score = best_particle[1]\n",
    "        global_best_model = copy.deepcopy(particles[best_particle[0]].local_best_model)\n",
    "\n",
    "        print(f'Epoch {epoch + 1}/{num_rodadas}, Best Particle Loss: {global_best_score:.4f}')\n",
    "\n",
    "        server_model.load_state_dict(global_best_model)\n",
    "        server_model.eval()\n",
    "        total_loss, correct = 0, 0\n",
    "        with torch.no_grad():\n",
    "            for images, labels in testloader:\n",
    "                images, labels = images.to(device), labels.to(device)\n",
    "                outputs = server_model(images)\n",
    "                loss = criterion(outputs, labels)\n",
    "                total_loss += loss.item()\n",
    "                correct += (outputs.argmax(1) == labels).type(torch.float).sum().item()\n",
    "        test_loss = total_loss / len(testloader)\n",
    "        test_accuracy = correct / len(testset)\n",
    "        server_evaluate_acc.append([test_loss, test_accuracy])\n",
    "        print(f'Epoch {epoch + 1}/{num_rodadas}, Test Loss: {test_loss:.4f}, Test Accuracy: {test_accuracy:.4f}')\n",
    "\n",
    "    write_csv(\"FLPSO-SGD3\", architecture, server_evaluate_acc)\n",
    "\n",
    "# Exemplo de execução\n",
    "#train_federated(\"squeezenet\")"
   ]
  },
  {
   "cell_type": "markdown",
   "id": "c70df1db",
   "metadata": {},
   "source": [
    "## SqueezeNet"
   ]
  },
  {
   "cell_type": "code",
   "execution_count": null,
   "id": "a13d7823",
   "metadata": {},
   "outputs": [],
   "source": [
    "train_federated(\"squeezenet\")  "
   ]
  },
  {
   "cell_type": "markdown",
   "id": "6ec3a3d5",
   "metadata": {},
   "source": [
    "## MobileNet_v2"
   ]
  },
  {
   "cell_type": "code",
   "execution_count": null,
   "id": "5674d2ca",
   "metadata": {},
   "outputs": [],
   "source": [
    "train_federated(\"mobilenet_v2\") "
   ]
  },
  {
   "cell_type": "markdown",
   "id": "8b08cd1c",
   "metadata": {},
   "source": [
    "## Resnet18"
   ]
  },
  {
   "cell_type": "code",
   "execution_count": null,
   "id": "a063640b",
   "metadata": {},
   "outputs": [],
   "source": [
    "train_federated(\"resnet18\") "
   ]
  },
  {
   "cell_type": "markdown",
   "id": "19659500",
   "metadata": {},
   "source": [
    "## AlexNet"
   ]
  },
  {
   "cell_type": "code",
   "execution_count": null,
   "id": "51ab4697",
   "metadata": {},
   "outputs": [],
   "source": [
    "train_federated(\"alexnet\") "
   ]
  },
  {
   "cell_type": "code",
   "execution_count": null,
   "id": "c7675711",
   "metadata": {},
   "outputs": [],
   "source": []
  }
 ],
 "metadata": {
  "kernelspec": {
   "display_name": "Python 3 (ipykernel)",
   "language": "python",
   "name": "python3"
  },
  "language_info": {
   "codemirror_mode": {
    "name": "ipython",
    "version": 3
   },
   "file_extension": ".py",
   "mimetype": "text/x-python",
   "name": "python",
   "nbconvert_exporter": "python",
   "pygments_lexer": "ipython3",
   "version": "3.11.5"
  }
 },
 "nbformat": 4,
 "nbformat_minor": 5
}
