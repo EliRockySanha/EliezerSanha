{
 "cells": [
  {
   "cell_type": "code",
   "execution_count": 1,
   "metadata": {},
   "outputs": [],
   "source": [
    "from sympy import mod_inverse, lcm, isprime\n",
    "import random"
   ]
  },
  {
   "cell_type": "code",
   "execution_count": 2,
   "metadata": {},
   "outputs": [],
   "source": [
    "def generate_large_prime(bits):\n",
    "    \"\"\"Generate a large prime number.\"\"\"\n",
    "    while True:\n",
    "        num = random.getrandbits(bits)\n",
    "        if isprime(num):\n",
    "            return num"
   ]
  },
  {
   "cell_type": "code",
   "execution_count": 3,
   "metadata": {},
   "outputs": [],
   "source": [
    "def keygen(bits):\n",
    "    # Choose two large prime numbers\n",
    "    p = generate_large_prime(bits)\n",
    "    q = generate_large_prime(bits)\n",
    "\n",
    "    # Compute n and lambda\n",
    "    n = p * q\n",
    "    lambda_n = lcm(p - 1, q - 1)\n",
    "\n",
    "    # Choose g\n",
    "    g = n + 1\n",
    "\n",
    "    # Compute mu\n",
    "    n2 = n ** 2\n",
    "    g_lambda_mod_n2 = pow(g, int(lambda_n), n2)  # Convert lambda_n to int\n",
    "    L = (g_lambda_mod_n2 - 1) // n\n",
    "    mu = mod_inverse(L, n)\n",
    "\n",
    "    return (n, g), (int(lambda_n), int(mu))  # Ensure all values are standard integers"
   ]
  },
  {
   "cell_type": "code",
   "execution_count": 4,
   "metadata": {},
   "outputs": [
    {
     "name": "stdout",
     "output_type": "stream",
     "text": [
      "Public Key: (132128933, 132128934)\n",
      "Private Key: (2539680, 109774635)\n"
     ]
    }
   ],
   "source": [
    "public_key, private_key = keygen(16)\n",
    "print(\"Public Key:\", public_key)\n",
    "print(\"Private Key:\", private_key)"
   ]
  },
  {
   "cell_type": "code",
   "execution_count": 5,
   "metadata": {},
   "outputs": [],
   "source": [
    "def encrypt(public_key, plaintext):\n",
    "    n, g = public_key\n",
    "    r = random.randint(1, n-1)\n",
    "    n2 = n ** 2\n",
    "    \n",
    "    # Compute ciphertext\n",
    "    c = (pow(g, plaintext, n2) * pow(r, n, n2)) % n2\n",
    "    return c"
   ]
  },
  {
   "cell_type": "code",
   "execution_count": 6,
   "metadata": {},
   "outputs": [
    {
     "name": "stdout",
     "output_type": "stream",
     "text": [
      "Plaintext: 10\n",
      "Ciphertext: 6505047243130652\n"
     ]
    }
   ],
   "source": [
    "plaintext = 10\n",
    "ciphertext = encrypt(public_key, plaintext)\n",
    "print(\"Plaintext:\", plaintext)\n",
    "print(\"Ciphertext:\", ciphertext)"
   ]
  },
  {
   "cell_type": "code",
   "execution_count": 7,
   "metadata": {},
   "outputs": [],
   "source": [
    "def decrypt(private_key, public_key, ciphertext):\n",
    "    lambda_n, mu = private_key\n",
    "    n, _ = public_key\n",
    "    n2 = n ** 2\n",
    "    \n",
    "    # Compute m\n",
    "    c_lambda = pow(ciphertext, lambda_n, n2)\n",
    "    L = (c_lambda - 1) // n\n",
    "    m = (L * mu) % n\n",
    "    \n",
    "    return m"
   ]
  },
  {
   "cell_type": "code",
   "execution_count": 8,
   "metadata": {},
   "outputs": [
    {
     "name": "stdout",
     "output_type": "stream",
     "text": [
      "Decrypted Message: 10\n"
     ]
    }
   ],
   "source": [
    "decrypted_message = decrypt(private_key, public_key, ciphertext)\n",
    "print(\"Decrypted Message:\", decrypted_message)"
   ]
  },
  {
   "cell_type": "code",
   "execution_count": 9,
   "metadata": {},
   "outputs": [],
   "source": [
    "def homomorphic_addition(public_key, c1, c2, c3):\n",
    "    \"\"\"Perform homomorphic addition of two ciphertexts.\"\"\"\n",
    "    n, _ = public_key\n",
    "    n2 = n ** 2\n",
    "    # Homomorphic addition: c1 * c2 * c3 % n^2\n",
    "    c_sum = (c1 * c2 * c3) % n2\n",
    "    return c_sum"
   ]
  },
  {
   "cell_type": "code",
   "execution_count": 10,
   "metadata": {},
   "outputs": [
    {
     "name": "stdout",
     "output_type": "stream",
     "text": [
      "Encrypted Gradient 1: 4411436230418666\n",
      "Encrypted Gradient 2: 10760337853812060\n",
      "Encrypted Gradient 3: 482927698409710\n"
     ]
    }
   ],
   "source": [
    "# Encrypt two plaintext numbers\n",
    "gradient_1 = 40\n",
    "gradient_2 = 58\n",
    "gradient_3 = 20\n",
    "\n",
    "encr_gradient_1 = encrypt(public_key, gradient_1)\n",
    "encr_gradient_2 = encrypt(public_key, gradient_2)\n",
    "encr_gradient_3 = encrypt(public_key, gradient_3)\n",
    "\n",
    "print(\"Encrypted Gradient 1:\", encr_gradient_1)\n",
    "print(\"Encrypted Gradient 2:\", encr_gradient_2)\n",
    "print(\"Encrypted Gradient 3:\", encr_gradient_3)"
   ]
  },
  {
   "cell_type": "code",
   "execution_count": 11,
   "metadata": {},
   "outputs": [
    {
     "name": "stdout",
     "output_type": "stream",
     "text": [
      "Encrypted Gradient Sum: 12402911223688676\n"
     ]
    }
   ],
   "source": [
    "# Homomorphic addition\n",
    "encr_gradient_sum = homomorphic_addition(public_key, encr_gradient_1, encr_gradient_2, encr_gradient_3)\n",
    "print(\"Encrypted Gradient Sum:\", encr_gradient_sum)"
   ]
  },
  {
   "cell_type": "code",
   "execution_count": 12,
   "metadata": {},
   "outputs": [
    {
     "name": "stdout",
     "output_type": "stream",
     "text": [
      "Decrypted Gradient Sum: 118\n",
      "Decrypted Gradient Average: 39.333333333333336\n"
     ]
    }
   ],
   "source": [
    "# Decrypt the result of the homomorphic addition\n",
    "decr_gradient_sum = decrypt(private_key, public_key, encr_gradient_sum)\n",
    "print(\"Decrypted Gradient Sum:\", decr_gradient_sum)\n",
    "print(\"Decrypted Gradient Average:\", decr_gradient_sum/3)"
   ]
  },
  {
   "cell_type": "code",
   "execution_count": null,
   "metadata": {},
   "outputs": [],
   "source": []
  }
 ],
 "metadata": {
  "kernelspec": {
   "display_name": "Python [conda env:base] *",
   "language": "python",
   "name": "conda-base-py"
  },
  "language_info": {
   "codemirror_mode": {
    "name": "ipython",
    "version": 3
   },
   "file_extension": ".py",
   "mimetype": "text/x-python",
   "name": "python",
   "nbconvert_exporter": "python",
   "pygments_lexer": "ipython3",
   "version": "3.11.5"
  }
 },
 "nbformat": 4,
 "nbformat_minor": 4
}
